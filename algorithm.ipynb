{
 "cells": [
  {
   "cell_type": "markdown",
   "source": [
    "# ADMM (Alternating Direction Method of Multipliers)"
   ],
   "metadata": {
    "collapsed": false
   },
   "id": "7b0c18f53b0796c"
  },
  {
   "cell_type": "markdown",
   "source": [
    "ADMM łączy zalety metod mnożników Lagrange'a i metod dekompozycji, aby efektywnie rozwiązywać duże problemy optymalizacyjne.\n"
   ],
   "metadata": {
    "collapsed": false
   },
   "id": "e98e901bdd5c115a"
  },
  {
   "cell_type": "markdown",
   "source": [
    "Rozważmy problem optymalizacyjny w takiej postaci:\n",
    "\n",
    "$$\n",
    "\\begin{aligned}\n",
    "& \\underset{x}{\\text{minimize}}\n",
    "& & f(x) + g(z) \\\\\n",
    "& \\text{subject to}\n",
    "& & Ax + Bz = c\n",
    "\\end{aligned}\n",
    "$$"
   ],
   "metadata": {
    "collapsed": false
   },
   "id": "dbbf517c3871f442"
  },
  {
   "cell_type": "markdown",
   "source": [
    "# Kroki algorytmu ADMM:"
   ],
   "metadata": {
    "collapsed": false
   },
   "id": "fef1626e0be1402d"
  },
  {
   "cell_type": "markdown",
   "source": [
    "1. Konstrukcja Lagrangianu dla problemu optymalizacyjnego:\n",
    "   $$ L(x, z, \\lambda) = f(x) + g(z) + \\lambda^T(Ax + Bz - c) + \\frac{\\rho}{2}||Ax + Bz - c||^2 $$ $\\rho$ to dodatni parametr regularyzacji\n"
   ],
   "metadata": {
    "collapsed": false
   },
   "id": "7a1fe111c869b643"
  },
  {
   "cell_type": "markdown",
   "source": [
    "2. Iteracyjne rozwiązanie problemu optymalizacyjnego:\n",
    "    $$ x^{k+1} = \\underset{x}{\\text{argmin}} L(x, z^k, \\lambda^k) $$\n",
    "    $$ z^{k+1} = \\underset{z}{\\text{argmin}} L(x^{k+1}, z, \\lambda^k) $$\n",
    "    $$ \\lambda^{k+1} = \\lambda^k + \\rho(Ax^{k+1} + Bz^{k+1} - c) $$\n",
    "aż do osiągnięcia warunku zbieżności"
   ],
   "metadata": {
    "collapsed": false
   },
   "id": "882b3ffe072ab0bb"
  },
  {
   "cell_type": "code",
   "outputs": [],
   "source": [],
   "metadata": {
    "collapsed": false
   },
   "id": "7ec360a90808aa5"
  }
 ],
 "metadata": {
  "kernelspec": {
   "display_name": "Python 3",
   "language": "python",
   "name": "python3"
  },
  "language_info": {
   "codemirror_mode": {
    "name": "ipython",
    "version": 2
   },
   "file_extension": ".py",
   "mimetype": "text/x-python",
   "name": "python",
   "nbconvert_exporter": "python",
   "pygments_lexer": "ipython2",
   "version": "2.7.6"
  }
 },
 "nbformat": 4,
 "nbformat_minor": 5
}
